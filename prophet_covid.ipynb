{
  "nbformat": 4,
  "nbformat_minor": 0,
  "metadata": {
    "colab": {
      "name": "prophet_covid.ipynb",
      "provenance": [],
      "mount_file_id": "1Cqrtmf4WoZZs_E-iIkQwEz7aX1Fs_YLh",
      "authorship_tag": "ABX9TyOf8EFQEz8LZu1lZcP31Z5u",
      "include_colab_link": true
    },
    "kernelspec": {
      "name": "python3",
      "display_name": "Python 3"
    },
    "language_info": {
      "name": "python"
    }
  },
  "cells": [
    {
      "cell_type": "markdown",
      "metadata": {
        "id": "view-in-github",
        "colab_type": "text"
      },
      "source": [
        "<a href=\"https://colab.research.google.com/github/laugustovieira/prophet_covid/blob/main/prophet_covid.ipynb\" target=\"_parent\"><img src=\"https://colab.research.google.com/assets/colab-badge.svg\" alt=\"Open In Colab\"/></a>"
      ]
    },
    {
      "cell_type": "code",
      "metadata": {
        "id": "40vB1wa7YVPl"
      },
      "source": [
        "url = '/content/drive/MyDrive/Dados_BootCamp/dados_covid_sp.csv'"
      ],
      "execution_count": 1,
      "outputs": []
    },
    {
      "cell_type": "code",
      "metadata": {
        "id": "oNjli79WYtUH"
      },
      "source": [
        "import pandas as pd"
      ],
      "execution_count": 2,
      "outputs": []
    },
    {
      "cell_type": "code",
      "metadata": {
        "id": "JNTRB3dhY2HI"
      },
      "source": [
        "dados = pd.read_csv(url)"
      ],
      "execution_count": 3,
      "outputs": []
    }
  ]
}